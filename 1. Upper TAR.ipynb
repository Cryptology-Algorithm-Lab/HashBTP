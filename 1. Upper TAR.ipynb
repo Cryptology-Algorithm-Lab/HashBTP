{
 "cells": [
  {
   "cell_type": "markdown",
   "id": "5273184c",
   "metadata": {},
   "source": [
    "### General Security Analysis for Face Template Protection Methods from Cryptographic Hash Functions\n",
    "\n",
    "- Seunghun Paik, Minsu Kim, Sunpill Kim, and Jae Hong Seo\n",
    "\n",
    "- Department of Mathematics & Research Institute for Natural Sciences, Hanyang University\n",
    "\n",
    "- Submitted to IEEE Transactions on Information Forensics and Security.\n",
    "\n",
    "#### This notebook measures the upper bound of TAR for CtH-based BTPs."
   ]
  },
  {
   "cell_type": "code",
   "execution_count": null,
   "id": "e52b4c66",
   "metadata": {},
   "outputs": [],
   "source": [
    "### Configs for models & datasets\n",
    "from config import cfg\n",
    "device = \"cuda:1\"\n",
    "batch_size = 256"
   ]
  },
  {
   "cell_type": "markdown",
   "id": "7900f97c",
   "metadata": {},
   "source": [
    "#### Step 1. Load Benchmark Datasets"
   ]
  },
  {
   "cell_type": "code",
   "execution_count": null,
   "id": "f23b8c62",
   "metadata": {},
   "outputs": [],
   "source": [
    "import os\n",
    "from feat_tools import load_bin\n",
    "\n",
    "lfw_dir = os.path.join(cfg.img_dir, \"lfw.bin\")\n",
    "cfp_dir = os.path.join(cfg.img_dir, \"cfp_fp.bin\")\n",
    "age_dir = os.path.join(cfg.img_dir, \"agedb_30.bin\")\n",
    "\n",
    "lfw = load_bin(lfw_dir, (112,112))\n",
    "cfp = load_bin(cfp_dir, (112,112))\n",
    "age = load_bin(age_dir, (112,112))"
   ]
  },
  {
   "cell_type": "markdown",
   "id": "a9ec033a",
   "metadata": {},
   "source": [
    "#### Step 3. Do Benchmarks for deriving the upper TAR"
   ]
  },
  {
   "cell_type": "code",
   "execution_count": null,
   "id": "b8024370",
   "metadata": {},
   "outputs": [],
   "source": [
    "### Setup Tables for security levels & thresholds\n",
    "from estimator import make_table, plot_table\n",
    "\n",
    "sec_levels = [128, 192, 256]\n",
    "dims = [1<<i for i in range(7, 13)]\n",
    "table = make_table(sec_levels, dims)\n",
    "\n",
    "# This draws Fig. 2.\n",
    "plot_table(table, sec_levels)"
   ]
  },
  {
   "cell_type": "markdown",
   "id": "d6314467",
   "metadata": {},
   "source": [
    "##### InsightFace"
   ]
  },
  {
   "cell_type": "code",
   "execution_count": null,
   "id": "fc5c6933",
   "metadata": {},
   "outputs": [],
   "source": [
    "from benchmark import end_to_end_benchmark\n",
    "from backbones import get_backbone"
   ]
  },
  {
   "cell_type": "code",
   "execution_count": null,
   "id": "d9407139",
   "metadata": {
    "scrolled": true
   },
   "outputs": [],
   "source": [
    "print(\"Model: \", cfg.model1[-1])\n",
    "model = get_backbone(cfg.model1, device)\n",
    "end_to_end_benchmark(lfw, model, batch_size, device, table, target_far = 0, suffix = r\"$I_{1}$\")\n",
    "end_to_end_benchmark(cfp, model, batch_size, device, table, target_far = 0, suffix = r\"$I_{1}$\")\n",
    "end_to_end_benchmark(age, model, batch_size, device, table, target_far = 0, suffix = r\"$I_{1}$\")"
   ]
  },
  {
   "cell_type": "code",
   "execution_count": null,
   "id": "789a6ee5",
   "metadata": {},
   "outputs": [],
   "source": [
    "print(\"Model: \", cfg.model2[-1])\n",
    "model = get_backbone(cfg.model2, device)\n",
    "end_to_end_benchmark(lfw, model, batch_size, device, table, target_far = 0, suffix = r\"$I_{2}$\")\n",
    "end_to_end_benchmark(cfp, model, batch_size, device, table, target_far = 0, suffix = r\"$I_{2}$\")\n",
    "end_to_end_benchmark(age, model, batch_size, device, table, target_far = 0, suffix = r\"$I_{2}$\")"
   ]
  },
  {
   "cell_type": "code",
   "execution_count": null,
   "id": "566d40ee",
   "metadata": {},
   "outputs": [],
   "source": [
    "print(\"Model: \", cfg.model3[-1])\n",
    "model = get_backbone(cfg.model3, device)\n",
    "end_to_end_benchmark(lfw, model, batch_size, device, table, target_far = 0, suffix = r\"$I_{3}$\")\n",
    "end_to_end_benchmark(cfp, model, batch_size, device, table, target_far = 0, suffix = r\"$I_{3}$\")\n",
    "end_to_end_benchmark(age, model, batch_size, device, table, target_far = 0, suffix = r\"$I_{3}$\")"
   ]
  },
  {
   "cell_type": "markdown",
   "id": "314c2c19",
   "metadata": {},
   "source": [
    "##### OpenSphere"
   ]
  },
  {
   "cell_type": "code",
   "execution_count": null,
   "id": "eb97fa4c",
   "metadata": {},
   "outputs": [],
   "source": [
    "print(\"Model: \", cfg.model4[-1])\n",
    "model = get_backbone(cfg.model4, device)\n",
    "end_to_end_benchmark(lfw, model, batch_size, device, table, target_far = 0, suffix = r\"$O_{1}$\")\n",
    "end_to_end_benchmark(cfp, model, batch_size, device, table, target_far = 0, suffix = r\"$O_{1}$\")\n",
    "end_to_end_benchmark(age, model, batch_size, device, table, target_far = 0, suffix = r\"$O_{1}$\")"
   ]
  },
  {
   "cell_type": "code",
   "execution_count": null,
   "id": "1f28e500",
   "metadata": {},
   "outputs": [],
   "source": [
    "print(\"Model: \", cfg.model5[-1])\n",
    "model = get_backbone(cfg.model5, device)\n",
    "end_to_end_benchmark(lfw, model, batch_size, device, table, target_far = 0, suffix = r\"$O_{2}$\")\n",
    "end_to_end_benchmark(cfp, model, batch_size, device, table, target_far = 0, suffix = r\"$O_{2}$\")\n",
    "end_to_end_benchmark(age, model, batch_size, device, table, target_far = 0, suffix = r\"$O_{2}$\")"
   ]
  },
  {
   "cell_type": "code",
   "execution_count": null,
   "id": "07929307",
   "metadata": {},
   "outputs": [],
   "source": [
    "print(\"Model: \", cfg.model6[-1])\n",
    "model = get_backbone(cfg.model6, device)\n",
    "end_to_end_benchmark(lfw, model, batch_size, device, table, target_far = 0, suffix = r\"$O_{3}$\")\n",
    "end_to_end_benchmark(cfp, model, batch_size, device, table, target_far = 0, suffix = r\"$O_{3}$\")\n",
    "end_to_end_benchmark(age, model, batch_size, device, table, target_far = 0, suffix = r\"$O_{3}$\")"
   ]
  },
  {
   "cell_type": "markdown",
   "id": "d852cc27",
   "metadata": {},
   "source": [
    "##### CVLFace"
   ]
  },
  {
   "cell_type": "code",
   "execution_count": null,
   "id": "27bad2db",
   "metadata": {},
   "outputs": [],
   "source": [
    "print(\"Model: \", cfg.model7[-1])\n",
    "model = get_backbone(cfg.model7, device)\n",
    "end_to_end_benchmark(lfw, model, batch_size, device, table, target_far = 0, suffix = r\"$C_{1}$\")\n",
    "end_to_end_benchmark(cfp, model, batch_size, device, table, target_far = 0, suffix = r\"$C_{1}$\")\n",
    "end_to_end_benchmark(age, model, batch_size, device, table, target_far = 0, suffix = r\"$C_{1}$\")"
   ]
  },
  {
   "cell_type": "code",
   "execution_count": null,
   "id": "722e42ab",
   "metadata": {},
   "outputs": [],
   "source": [
    "print(\"Model: \", cfg.model8[-1])\n",
    "model = get_backbone(cfg.model8, device)\n",
    "end_to_end_benchmark(lfw, model, batch_size, device, table, target_far = 0, suffix = r\"$C_{2}$\")\n",
    "end_to_end_benchmark(cfp, model, batch_size, device, table, target_far = 0, suffix = r\"$C_{2}$\")\n",
    "end_to_end_benchmark(age, model, batch_size, device, table, target_far = 0, suffix = r\"$C_{2}$\")"
   ]
  },
  {
   "cell_type": "code",
   "execution_count": null,
   "id": "e1b00f75",
   "metadata": {},
   "outputs": [],
   "source": [
    "print(\"Model: \", cfg.model9[-1])\n",
    "\n",
    "# Making Use of KPRPE is quite intricated...\n",
    "# The following codes are based on the instruction from CVLFace \n",
    "# For more information, please refer to\n",
    "# https://huggingface.co/minchul/cvlface_adaface_vit_base_kprpe_webface4m\n",
    "\n",
    "from transformers import AutoModel\n",
    "from huggingface_hub import hf_hub_download\n",
    "import shutil\n",
    "import os\n",
    "import torch\n",
    "\n",
    "\n",
    "# helpfer function to download huggingface repo and use model\n",
    "def download(repo_id, path, HF_TOKEN=None):\n",
    "    os.makedirs(path, exist_ok=True)\n",
    "    files_path = os.path.join(path, 'files.txt')\n",
    "    if not os.path.exists(files_path):\n",
    "        hf_hub_download(repo_id, 'files.txt', token=HF_TOKEN, local_dir=path, local_dir_use_symlinks=False)\n",
    "    with open(os.path.join(path, 'files.txt'), 'r') as f:\n",
    "        files = f.read().split('\\n')\n",
    "    for file in [f for f in files if f] + ['config.json', 'wrapper.py', 'model.safetensors']:\n",
    "        full_path = os.path.join(path, file)\n",
    "        if not os.path.exists(full_path):\n",
    "            hf_hub_download(repo_id, file, token=HF_TOKEN, local_dir=path, local_dir_use_symlinks=False)\n",
    "\n",
    "            \n",
    "# helpfer function to download huggingface repo and use model\n",
    "def load_model_from_local_path(path, HF_TOKEN=None):\n",
    "    cwd = os.getcwd()\n",
    "    os.chdir(path)\n",
    "    model = AutoModel.from_pretrained(path, trust_remote_code=True, token=HF_TOKEN)\n",
    "    os.chdir(cwd)\n",
    "    return model\n",
    "\n",
    "\n",
    "# helpfer function to download huggingface repo and use model\n",
    "def load_model_by_repo_id(repo_id, save_path, HF_TOKEN=None, force_download=False):\n",
    "    if force_download:\n",
    "        if os.path.exists(save_path):\n",
    "            shutil.rmtree(save_path)\n",
    "    download(repo_id, save_path, HF_TOKEN)\n",
    "    return load_model_from_local_path(save_path, HF_TOKEN)\n",
    "\n",
    "\n",
    "HF_TOKEN = 'YOUR HUGGINGFACE TOKEN'\n",
    "path = os.path.expanduser('~/.cvlface_cache/minchul/cvlface_adaface_vit_base_kprpe_webface4m')\n",
    "repo_id = 'minchul/cvlface_adaface_vit_base_kprpe_webface4m'\n",
    "model = load_model_by_repo_id(repo_id, path, HF_TOKEN)\n",
    "\n",
    "# input is a rgb image normalized.\n",
    "from torchvision.transforms import Compose, ToTensor, Normalize, Resize\n",
    "from PIL import Image\n",
    "input = torch.randn((1,3,112,112))\n",
    "\n",
    "# KPRPE also takes keypoints locations as input\n",
    "path = os.path.expanduser('~/.cvlface_cache/minchul/cvlface_DFA_mobilenet')\n",
    "aligner = load_model_by_repo_id('minchul/cvlface_DFA_mobilenet', path, HF_TOKEN)\n",
    "aligned_x, orig_ldmks, aligned_ldmks, score, thetas, bbox = aligner(input)\n",
    "keypoints = orig_ldmks  # torch.randn(1, 5, 2)\n",
    "out = model(input, keypoints)\n",
    "\n",
    "from torch import nn\n",
    "\n",
    "class CVLWrapper(nn.Module):\n",
    "    def __init__(self, aligner, model):\n",
    "        super().__init__()\n",
    "        self.aligner = aligner\n",
    "        self.model = model\n",
    "        \n",
    "    def forward(self, x):\n",
    "        _, orig_ldmks, _, _, _, _ = self.aligner(x)\n",
    "        out = self.model(x, orig_ldmks)\n",
    "        return out\n",
    "    \n",
    "model = CVLWrapper(aligner, model)\n",
    "model = model.eval().to(device)\n",
    "\n",
    "end_to_end_benchmark(lfw, model, batch_size, device, table, target_far = 0, suffix = r\"$C_{3}$\")\n",
    "end_to_end_benchmark(cfp, model, batch_size, device, table, target_far = 0, suffix = r\"$C_{3}$\")\n",
    "end_to_end_benchmark(age, model, batch_size, device, table, target_far = 0, suffix = r\"$C_{3}$\")"
   ]
  },
  {
   "cell_type": "markdown",
   "id": "94674e76",
   "metadata": {},
   "source": [
    "##### Miscellaneous"
   ]
  },
  {
   "cell_type": "code",
   "execution_count": null,
   "id": "2455f2bd",
   "metadata": {},
   "outputs": [],
   "source": [
    "print(\"Model: \", cfg.model10[-1])\n",
    "model = get_backbone(cfg.model10, device)\n",
    "end_to_end_benchmark(lfw, model, 256, device, table, target_far = 0, suffix = r\"$M_{1}$\")\n",
    "end_to_end_benchmark(cfp, model, 256, device, table, target_far = 0, suffix = r\"$M_{1}$\")\n",
    "end_to_end_benchmark(age, model, 256, device, table, target_far = 0, suffix = r\"$M_{1}$\")"
   ]
  },
  {
   "cell_type": "code",
   "execution_count": null,
   "id": "d57083af",
   "metadata": {},
   "outputs": [],
   "source": [
    "print(\"Model: \", cfg.model11[-1])\n",
    "model = get_backbone(cfg.model11, device)\n",
    "end_to_end_benchmark(lfw, model, 256, device, table, target_far = 0, suffix = r\"$M_{2}$\")\n",
    "end_to_end_benchmark(cfp, model, 256, device, table, target_far = 0, suffix = r\"$M_{2}$\")\n",
    "end_to_end_benchmark(age, model, 256, device, table, target_far = 0, suffix = r\"$M_{2}$\")"
   ]
  },
  {
   "cell_type": "code",
   "execution_count": null,
   "id": "aeeea498",
   "metadata": {},
   "outputs": [],
   "source": [
    "print(\"Model: \", cfg.model12[-1])\n",
    "model = get_backbone(cfg.model12, device)\n",
    "end_to_end_benchmark(lfw, model, 256, device, table, target_far = 0, suffix = r\"$M_{3}$\")\n",
    "end_to_end_benchmark(cfp, model, 256, device, table, target_far = 0, suffix = r\"$M_{3}$\")\n",
    "end_to_end_benchmark(age, model, 256, device, table, target_far = 0, suffix = r\"$M_{3}$\")"
   ]
  }
 ],
 "metadata": {
  "kernelspec": {
   "display_name": "Python 3 (ipykernel)",
   "language": "python",
   "name": "python3"
  },
  "language_info": {
   "codemirror_mode": {
    "name": "ipython",
    "version": 3
   },
   "file_extension": ".py",
   "mimetype": "text/x-python",
   "name": "python",
   "nbconvert_exporter": "python",
   "pygments_lexer": "ipython3",
   "version": "3.11.10"
  }
 },
 "nbformat": 4,
 "nbformat_minor": 5
}
