{
 "cells": [
  {
   "cell_type": "markdown",
   "id": "1777831f",
   "metadata": {},
   "source": [
    "### General Security Analysis for Face Template Protection Methods from Cryptographic Hash Functions\n",
    "\n",
    "- Seunghun Paik, Minsu Kim, Sunpill Kim, and Jae Hong Seo\n",
    "\n",
    "- Department of Mathematics & Research Institute for Natural Sciences, Hanyang University\n",
    "\n",
    "- Submitted to IEEE Transactions on Information Forensics and Security.\n",
    "\n",
    "#### This notebook demonstrates the proposed security estimator for CtH-based BTPs"
   ]
  },
  {
   "cell_type": "code",
   "execution_count": null,
   "id": "b826ee17",
   "metadata": {},
   "outputs": [],
   "source": [
    "### Configs for models & datasets\n",
    "from config import cfg\n",
    "device = \"cuda:1\"\n",
    "batch_size = 256"
   ]
  },
  {
   "cell_type": "markdown",
   "id": "52620370",
   "metadata": {},
   "source": [
    "#### Step 1. Load Benchmark Datasets\n",
    "\n",
    "Throughout this notebook, we will utilize LFW only."
   ]
  },
  {
   "cell_type": "code",
   "execution_count": null,
   "id": "ccb809ac",
   "metadata": {},
   "outputs": [],
   "source": [
    "import os\n",
    "from feat_tools import load_bin\n",
    "\n",
    "lfw_dir = os.path.join(cfg.img_dir, \"lfw.bin\")\n",
    "lfw = load_bin(lfw_dir, (112,112))"
   ]
  },
  {
   "cell_type": "markdown",
   "id": "07b83131",
   "metadata": {},
   "source": [
    "#### Step 2. Benchmarking BTPs\n",
    "\n",
    "Throughout this notebook, we will use `cfg.model3` as a backbone."
   ]
  },
  {
   "cell_type": "code",
   "execution_count": null,
   "id": "ea1e0831",
   "metadata": {},
   "outputs": [],
   "source": [
    "from feat_tools import feat_ext\n",
    "from backbones import get_backbone\n",
    "from benchmark import benchmark_plain, benchmark_IM, benchmark_SF\n",
    "from BTPs import IronMask, SigFeat\n",
    "\n",
    "model = get_backbone(cfg.model3, device)\n",
    "lfw_feats = feat_ext(lfw, model, batch_size, device).cpu()"
   ]
  },
  {
   "cell_type": "markdown",
   "id": "0cf4f05b",
   "metadata": {},
   "source": [
    "###### Plain"
   ]
  },
  {
   "cell_type": "code",
   "execution_count": null,
   "id": "64ba0bc1",
   "metadata": {},
   "outputs": [],
   "source": [
    "thx, ACC, TAR, FAR = benchmark_plain(lfw_feats, target_far=0)\n",
    "\n",
    "print(\"Benchmark, Plain\")\n",
    "print(f\"TAR: {TAR.item() * 100:.2f}%\")\n",
    "print(f\"FAR: {FAR.item() * 100:.2f}%\")\n",
    "print(f\"ACC: {ACC.item() * 100:.2f}%\")\n",
    "print(f\"THX: {thx.item():.4f}\")"
   ]
  },
  {
   "cell_type": "markdown",
   "id": "a9322e6a",
   "metadata": {},
   "source": [
    "###### IronMask"
   ]
  },
  {
   "cell_type": "code",
   "execution_count": null,
   "id": "1330f479",
   "metadata": {},
   "outputs": [],
   "source": [
    "IM = IronMask(512, 8)\n",
    "\n",
    "TAR, FAR, ACC = benchmark_IM(lfw_feats, IM, batch_size)\n",
    "print(\"Benchmark, IronMask-64bit\")\n",
    "print(f\"TAR: {TAR.item() * 100:.2f}%\")\n",
    "print(f\"FAR: {FAR.item() * 100:.2f}%\")\n",
    "print(f\"ACC: {ACC.item() * 100:.2f}%\")\n",
    "\n",
    "print()\n",
    "\n",
    "IM = IronMask(512, 16)\n",
    "\n",
    "TAR, FAR, ACC = benchmark_IM(lfw_feats, IM, batch_size)\n",
    "print(\"Benchmark, IronMask-115bit\")\n",
    "print(f\"TAR: {TAR.item() * 100:.2f}%\")\n",
    "print(f\"FAR: {FAR.item() * 100:.2f}%\")\n",
    "print(f\"ACC: {ACC.item() * 100:.2f}%\")"
   ]
  },
  {
   "cell_type": "markdown",
   "id": "69d5af0a",
   "metadata": {},
   "source": [
    "###### Mohan et al. (BCH)"
   ]
  },
  {
   "cell_type": "code",
   "execution_count": null,
   "id": "a194a233",
   "metadata": {},
   "outputs": [],
   "source": [
    "Mohan = SigFeat(512, 127, 64)\n",
    "\n",
    "TAR, FAR, ACC = benchmark_SF(lfw_feats, Mohan, batch_size=500)\n",
    "print(\"Benchmark, Mohan et al.-64bit (BCH)\")\n",
    "print(f\"TAR: {TAR.item() * 100:.2f}%\")\n",
    "print(f\"FAR: {FAR.item() * 100:.2f}%\")\n",
    "print(f\"ACC: {ACC.item() * 100:.2f}%\")\n",
    "\n",
    "print()\n",
    "\n",
    "Mohan = SigFeat(512, 255, 115)\n",
    "\n",
    "TAR, FAR, ACC = benchmark_SF(lfw_feats, Mohan, batch_size=500)\n",
    "print(\"Benchmark, Mohan et al.-115bit (BCH)\")\n",
    "print(f\"TAR: {TAR.item() * 100:.2f}%\")\n",
    "print(f\"FAR: {FAR.item() * 100:.2f}%\")\n",
    "print(f\"ACC: {ACC.item() * 100:.2f}%\")\n"
   ]
  },
  {
   "cell_type": "markdown",
   "id": "ff618865",
   "metadata": {},
   "source": [
    "###### Mohan et al. (Reed-Solomon)"
   ]
  },
  {
   "cell_type": "code",
   "execution_count": null,
   "id": "693c0356",
   "metadata": {},
   "outputs": [],
   "source": [
    "Mohan = SigFeat(512, 127, 64, mode = \"RS\")\n",
    "\n",
    "TAR, FAR, ACC = benchmark_SF(lfw_feats, Mohan, batch_size=500)\n",
    "print(\"Benchmark, Mohan et al.-64bit (Reed-Solomon)\")\n",
    "print(f\"TAR: {TAR.item() * 100:.2f}%\")\n",
    "print(f\"FAR: {FAR.item() * 100:.2f}%\")\n",
    "print(f\"ACC: {ACC.item() * 100:.2f}%\")\n",
    "\n",
    "print()\n",
    "\n",
    "Mohan = SigFeat(512, 255, 115, mode = \"RS\")\n",
    "\n",
    "TAR, FAR, ACC = benchmark_SF(lfw_feats, Mohan, batch_size=500)\n",
    "print(\"Benchmark, Mohan et al.-115bit (Reed-Solomon)\")\n",
    "print(f\"TAR: {TAR.item() * 100:.2f}%\")\n",
    "print(f\"FAR: {FAR.item() * 100:.2f}%\")\n",
    "print(f\"ACC: {ACC.item() * 100:.2f}%\")"
   ]
  },
  {
   "cell_type": "markdown",
   "id": "21a97725",
   "metadata": {},
   "source": [
    "#### Step 3. Security Estimator"
   ]
  },
  {
   "cell_type": "markdown",
   "id": "a023f759",
   "metadata": {},
   "source": [
    "### IronMask"
   ]
  },
  {
   "cell_type": "code",
   "execution_count": null,
   "id": "b474f25e",
   "metadata": {},
   "outputs": [],
   "source": [
    "from estimator import estimator_IM"
   ]
  },
  {
   "cell_type": "markdown",
   "id": "7242ac32",
   "metadata": {},
   "source": [
    "#### Caveat: The estimator is a probabilistic algorithm; it may gives some random results"
   ]
  },
  {
   "cell_type": "code",
   "execution_count": null,
   "id": "f90232a7",
   "metadata": {},
   "outputs": [],
   "source": [
    "# 64-bit security parameter\n",
    "LB, UB = estimator_IM(512, 8)\n",
    "\n",
    "print(f\"Lower Bound: {-UB}-bits\")\n",
    "print(f\"Upper Bound: {-LB}-bits\")"
   ]
  },
  {
   "cell_type": "code",
   "execution_count": null,
   "id": "6ce86249",
   "metadata": {},
   "outputs": [],
   "source": [
    "# 115-bit security parameter\n",
    "LB, UB = estimator_IM(512, 16)\n",
    "\n",
    "print(f\"Lower Bound: {-UB}-bits\")\n",
    "print(f\"Upper Bound: {-LB}-bits\")"
   ]
  },
  {
   "cell_type": "markdown",
   "id": "3eafc5f2",
   "metadata": {},
   "source": [
    "### Mohan et al. (BCH code)"
   ]
  },
  {
   "cell_type": "code",
   "execution_count": null,
   "id": "4051dca2",
   "metadata": {},
   "outputs": [],
   "source": [
    "from estimator import estimator_SF"
   ]
  },
  {
   "cell_type": "code",
   "execution_count": null,
   "id": "7e355c5f",
   "metadata": {},
   "outputs": [],
   "source": [
    "# 64-bit security parameter\n",
    "Mohan = SigFeat(512, 127, 64)\n",
    "LB, UB = estimator_SF(Mohan)\n",
    "\n",
    "print(f\"Lower Bound: {-UB}-bits\")\n",
    "print(f\"Upper Bound: {-LB}-bits\")"
   ]
  },
  {
   "cell_type": "code",
   "execution_count": null,
   "id": "301eca5c",
   "metadata": {},
   "outputs": [],
   "source": [
    "# 115-bit security parameter\n",
    "Mohan = SigFeat(512, 255, 115)\n",
    "LB, UB = estimator_SF(Mohan)\n",
    "\n",
    "print(f\"Lower Bound: {-UB}-bits\")\n",
    "print(f\"Upper Bound: {-LB}-bits\")"
   ]
  },
  {
   "cell_type": "markdown",
   "id": "923a9c31",
   "metadata": {},
   "source": [
    "### Mohan et al. (RS code)"
   ]
  },
  {
   "cell_type": "code",
   "execution_count": null,
   "id": "a0890a8d",
   "metadata": {},
   "outputs": [],
   "source": [
    "# 64-bit security parameter\n",
    "Mohan = SigFeat(512, 127, 64, mode = \"RS\")\n",
    "LB, UB = estimator_SF(Mohan)\n",
    "\n",
    "print(f\"Lower Bound: {-UB}-bits\")\n",
    "print(f\"Upper Bound: {-LB}-bits\")"
   ]
  },
  {
   "cell_type": "code",
   "execution_count": null,
   "id": "b3a14efe",
   "metadata": {},
   "outputs": [],
   "source": [
    "# 115-bit security parameter\n",
    "Mohan = SigFeat(512, 255, 115, mode = \"RS\")\n",
    "LB, UB = estimator_SF(Mohan)\n",
    "\n",
    "print(f\"Lower Bound: {-UB}-bits\")\n",
    "print(f\"Upper Bound: {-LB}-bits\")"
   ]
  }
 ],
 "metadata": {
  "kernelspec": {
   "display_name": "Python 3 (ipykernel)",
   "language": "python",
   "name": "python3"
  },
  "language_info": {
   "codemirror_mode": {
    "name": "ipython",
    "version": 3
   },
   "file_extension": ".py",
   "mimetype": "text/x-python",
   "name": "python",
   "nbconvert_exporter": "python",
   "pygments_lexer": "ipython3",
   "version": "3.11.10"
  }
 },
 "nbformat": 4,
 "nbformat_minor": 5
}
